{
  "nbformat": 4,
  "nbformat_minor": 0,
  "metadata": {
    "colab": {
      "name": "phys.ipynb",
      "provenance": [],
      "authorship_tag": "ABX9TyO/LZBpLKQft5ReiTj0dx9V"
    },
    "kernelspec": {
      "name": "python3",
      "display_name": "Python 3"
    }
  },
  "cells": [
    {
      "cell_type": "code",
      "metadata": {
        "colab": {
          "base_uri": "https://localhost:8080/"
        },
        "id": "CWLViClLjWR4",
        "outputId": "ae6ca3a3-4516-41cb-9f40-45ec4223efe6"
      },
      "source": [
        "!wget https://github.com/primat-lab/z-13/blob/0d7475f56d338fccf9f041a8fa4764b2345eaceb/reserford.py"
      ],
      "execution_count": 15,
      "outputs": [
        {
          "output_type": "stream",
          "text": [
            "--2021-03-12 13:16:54--  https://github.com/primat-lab/z-13/blob/0d7475f56d338fccf9f041a8fa4764b2345eaceb/reserford.py\n",
            "Resolving github.com (github.com)... 140.82.112.4\n",
            "Connecting to github.com (github.com)|140.82.112.4|:443... connected.\n",
            "HTTP request sent, awaiting response... 200 OK\n",
            "Length: unspecified [text/html]\n",
            "Saving to: ‘reserford.py.1’\n",
            "\n",
            "reserford.py.1          [ <=>                ] 149.46K  --.-KB/s    in 0.04s   \n",
            "\n",
            "2021-03-12 13:16:55 (3.80 MB/s) - ‘reserford.py.1’ saved [153047]\n",
            "\n"
          ],
          "name": "stdout"
        }
      ]
    },
    {
      "cell_type": "code",
      "metadata": {
        "colab": {
          "base_uri": "https://localhost:8080/"
        },
        "id": "3kNfCIn7jvZs",
        "outputId": "f402b83b-8b75-4c39-f9ec-437cf058ef1e"
      },
      "source": [
        "!rm reserford.py\n",
        "!ls\n"
      ],
      "execution_count": 21,
      "outputs": [
        {
          "output_type": "stream",
          "text": [
            "rm: cannot remove 'reserford.py': No such file or directory\n",
            "sample_data\n"
          ],
          "name": "stdout"
        }
      ]
    },
    {
      "cell_type": "code",
      "metadata": {
        "colab": {
          "base_uri": "https://localhost:8080/",
          "height": 132
        },
        "id": "c1RHCcLEjy5I",
        "outputId": "9106639d-a336-4352-b462-7093c1fb64bc"
      },
      "source": [
        "from content import reserford.py as Func"
      ],
      "execution_count": 9,
      "outputs": [
        {
          "output_type": "error",
          "ename": "SyntaxError",
          "evalue": "ignored",
          "traceback": [
            "\u001b[0;36m  File \u001b[0;32m\"<ipython-input-9-73382bf549ea>\"\u001b[0;36m, line \u001b[0;32m1\u001b[0m\n\u001b[0;31m    from content import reserford.py as Func\u001b[0m\n\u001b[0m                                 ^\u001b[0m\n\u001b[0;31mSyntaxError\u001b[0m\u001b[0;31m:\u001b[0m invalid syntax\n"
          ]
        }
      ]
    }
  ]
}